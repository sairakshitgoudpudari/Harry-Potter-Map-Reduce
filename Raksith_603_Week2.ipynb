{
  "nbformat": 4,
  "nbformat_minor": 0,
  "metadata": {
    "colab": {
      "provenance": []
    },
    "kernelspec": {
      "name": "python3",
      "display_name": "Python 3"
    },
    "language_info": {
      "name": "python"
    }
  },
  "cells": [
    {
      "cell_type": "code",
      "execution_count": 1,
      "metadata": {
        "colab": {
          "base_uri": "https://localhost:8080/",
          "height": 0
        },
        "id": "-HWmddLzJ91N",
        "outputId": "c0aa462d-40d0-4ce0-c3ac-e38a37620622"
      },
      "outputs": [
        {
          "output_type": "stream",
          "name": "stdout",
          "text": [
            "Requirement already satisfied: PyPDF2 in /usr/local/lib/python3.12/dist-packages (3.0.1)\n",
            "Requirement already satisfied: pyspellchecker in /usr/local/lib/python3.12/dist-packages (0.8.3)\n"
          ]
        }
      ],
      "source": [
        "\n",
        "!pip install PyPDF2 pyspellchecker\n"
      ]
    },
    {
      "cell_type": "code",
      "source": [
        "import requests\n",
        "\n",
        "\n",
        "pdf_url = \"https://kvongcmehsanalibrary.wordpress.com/wp-content/uploads/2021/07/harrypotter.pdf\"\n",
        "\n",
        "def download_pdf(url, local_filename):\n",
        "    response = requests.get(url)\n",
        "    response.raise_for_status()\n",
        "    with open(local_filename, \"wb\") as f:\n",
        "        f.write(response.content)\n",
        "    print(f\"Downloaded PDF and saved as {local_filename}\")\n",
        "\n",
        "\n",
        "download_pdf(pdf_url, \"harrypotter.pdf\")\n"
      ],
      "metadata": {
        "colab": {
          "base_uri": "https://localhost:8080/",
          "height": 0
        },
        "id": "XISV6zIMKUA5",
        "outputId": "4b5d628e-6f51-475a-c2c7-bfae8f197ebc"
      },
      "execution_count": 2,
      "outputs": [
        {
          "output_type": "stream",
          "name": "stdout",
          "text": [
            "Downloaded PDF and saved as harrypotter.pdf\n"
          ]
        }
      ]
    },
    {
      "cell_type": "code",
      "source": [
        "import PyPDF2\n",
        "\n",
        "\n",
        "BIRTHDAY = \"17th March 2003\"\n",
        "PDF_PATH = \"/content/harrypotter.pdf\"\n",
        "\n",
        "#book 3\n",
        "BOOK_START_PAGE = 567\n",
        "DATE_PAGE = BOOK_START_PAGE + 17\n",
        "YEAR_PAGE = BOOK_START_PAGE + 103  # page for year 2003 -> 103\n",
        "\n",
        "def extract_pages_to_file(pdf_path, start_page, end_page, output_file):\n",
        "    with open(pdf_path, \"rb\") as f:\n",
        "        reader = PyPDF2.PdfReader(f)\n",
        "        text = \"\"\n",
        "        for i in range(start_page, end_page + 1):\n",
        "            if i < len(reader.pages):\n",
        "                text += reader.pages[i].extract_text() + \"\\n\"\n",
        "        with open(output_file, \"w\", encoding=\"utf-8\") as out:\n",
        "            out.write(text)\n",
        "\n",
        "\n",
        "extract_pages_to_file(PDF_PATH, DATE_PAGE, DATE_PAGE+9, \"file1.txt\")\n",
        "extract_pages_to_file(PDF_PATH, YEAR_PAGE, YEAR_PAGE+9, \"file2.txt\")\n",
        "\n",
        "print(\"Extracted file1.txt and file2.txt successfully!\")\n"
      ],
      "metadata": {
        "colab": {
          "base_uri": "https://localhost:8080/",
          "height": 0
        },
        "id": "4agjd1YILFf8",
        "outputId": "6d4c8883-0c2a-41fe-fb12-353eac72bf10"
      },
      "execution_count": 3,
      "outputs": [
        {
          "output_type": "stream",
          "name": "stdout",
          "text": [
            "Extracted file1.txt and file2.txt successfully!\n"
          ]
        }
      ]
    },
    {
      "cell_type": "code",
      "source": [
        "from collections import defaultdict\n",
        "import re\n",
        "\n",
        "\n",
        "with open(\"file1.txt\", \"r\", encoding=\"utf-8\") as f:\n",
        "    text1 = f.read().lower()\n",
        "\n",
        "\n",
        "words = re.findall(r\"\\b[a-z']+\\b\", text1)\n",
        "mapped = [(word, 1) for word in words]\n",
        "\n",
        "\n",
        "word_count = defaultdict(int)\n",
        "for word, count in mapped:\n",
        "    word_count[word] += count\n",
        "\n",
        "print(\"Word Count in file1.txt (Top 30 words):\")\n",
        "for word, count in sorted(word_count.items(), key=lambda x: x[1], reverse=True)[:30]:\n",
        "    print(f\"{word}: {count}\")\n"
      ],
      "metadata": {
        "colab": {
          "base_uri": "https://localhost:8080/",
          "height": 0
        },
        "id": "PhvkBEvhLvAb",
        "outputId": "ffee0728-1e2f-440b-acdd-df5f4e6ebc0a"
      },
      "execution_count": 4,
      "outputs": [
        {
          "output_type": "stream",
          "name": "stdout",
          "text": [
            "Word Count in file1.txt (Top 30 words):\n",
            "the: 137\n",
            "to: 85\n",
            "harry: 71\n",
            "and: 69\n",
            "a: 68\n",
            "s: 60\n",
            "of: 59\n",
            "aunt: 57\n",
            "he: 57\n",
            "marge: 51\n",
            "his: 48\n",
            "vernon: 46\n",
            "uncle: 42\n",
            "i: 39\n",
            "you: 38\n",
            "in: 36\n",
            "was: 36\n",
            "at: 35\n",
            "that: 30\n",
            "said: 30\n",
            "she: 29\n",
            "had: 28\n",
            "with: 28\n",
            "t: 28\n",
            "it: 28\n",
            "her: 26\n",
            "petunia: 25\n",
            "on: 24\n",
            "for: 20\n",
            "dudley: 20\n"
          ]
        }
      ]
    },
    {
      "cell_type": "code",
      "source": [
        "from spellchecker import SpellChecker\n",
        "\n",
        "with open(\"file2.txt\", \"r\", encoding=\"utf-8\") as f:\n",
        "    text2 = f.read().lower()\n",
        "\n",
        "words2 = re.findall(r\"\\b[a-z']+\\b\", text2)\n",
        "spell = SpellChecker()\n",
        "\n",
        "mapped2 = [(word, 1) for word in words2 if word not in spell]\n",
        "\n",
        "non_english_count = defaultdict(int)\n",
        "for word, count in mapped2:\n",
        "    non_english_count[word] += count\n",
        "\n",
        "print(\"Non-English (names, spells, places) in file2.txt:\")\n",
        "for word, count in sorted(non_english_count.items(), key=lambda x: x[1], reverse=True):\n",
        "    print(f\"{word}: {count}\")\n"
      ],
      "metadata": {
        "colab": {
          "base_uri": "https://localhost:8080/",
          "height": 0
        },
        "id": "QVXxVR55Lzs9",
        "outputId": "658415de-dd8d-4305-c50f-5027d4c1fb70"
      },
      "execution_count": 5,
      "outputs": [
        {
          "output_type": "stream",
          "name": "stdout",
          "text": [
            "Non-English (names, spells, places) in file2.txt:\n",
            "malfoy: 42\n",
            "hagrid: 29\n",
            "hermione: 23\n",
            "snape: 22\n",
            "ll: 8\n",
            "wasn: 7\n",
            "didn: 6\n",
            "goyle: 5\n",
            "weasley: 5\n",
            "longbottom: 5\n",
            "slytherins: 4\n",
            "gryffindor: 4\n",
            "wouldn: 4\n",
            "yeh: 4\n",
            "shrivelfig: 4\n",
            "pomfrey: 3\n",
            "ve: 3\n",
            "ter: 3\n",
            "gryffindors: 3\n",
            "slytherin: 2\n",
            "hasn: 2\n",
            "dementors: 2\n",
            "hippogriffs: 2\n",
            "seamus: 2\n",
            "buckbeak: 1\n",
            "dyin: 1\n",
            "mcgonagall: 1\n",
            "weren: 1\n",
            "spect: 1\n",
            "sayin: 1\n",
            "moanin: 1\n",
            "nors: 1\n",
            "shoulda: 1\n",
            "flobberworms: 1\n",
            "jus: 1\n",
            "tha: 1\n",
            "doin: 1\n",
            "wanderin: 1\n",
            "lettin: 1\n",
            "walkin: 1\n",
            "alfoy: 1\n",
            "finnigan: 1\n",
            "muggle: 1\n",
            "muggles: 1\n",
            "couldn: 1\n"
          ]
        }
      ]
    }
  ]
}